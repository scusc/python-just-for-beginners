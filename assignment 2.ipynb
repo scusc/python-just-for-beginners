{
 "cells": [
  {
   "cell_type": "markdown",
   "metadata": {},
   "source": [
    "# data structures in python"
   ]
  },
  {
   "cell_type": "code",
   "execution_count": 7,
   "metadata": {},
   "outputs": [
    {
     "name": "stdout",
     "output_type": "stream",
     "text": [
      "['a', 5, 'b', True, 5, 'abc']\n"
     ]
    }
   ],
   "source": [
    "list1 = [\"a\", 5, \"b\", True, 5, \"abc\"]\n",
    "print(list1)"
   ]
  },
  {
   "cell_type": "code",
   "execution_count": 8,
   "metadata": {},
   "outputs": [
    {
     "name": "stdout",
     "output_type": "stream",
     "text": [
      "<class 'list'>\n"
     ]
    }
   ],
   "source": [
    "print(type(list1))"
   ]
  },
  {
   "cell_type": "code",
   "execution_count": 9,
   "metadata": {},
   "outputs": [
    {
     "name": "stdout",
     "output_type": "stream",
     "text": [
      "['a', 'b', 'c', ' ', 'd', 'e', 'f', ' ', 'g', 'h', 'i']\n"
     ]
    }
   ],
   "source": [
    "list2 = list(\"abc def ghi\")\n",
    "print(list2)"
   ]
  },
  {
   "cell_type": "code",
   "execution_count": 10,
   "metadata": {},
   "outputs": [
    {
     "name": "stdout",
     "output_type": "stream",
     "text": [
      "[]\n"
     ]
    }
   ],
   "source": [
    "list3 = []\n",
    "print(list3)"
   ]
  },
  {
   "cell_type": "code",
   "execution_count": 11,
   "metadata": {},
   "outputs": [
    {
     "name": "stdout",
     "output_type": "stream",
     "text": [
      "['append into empty list']\n"
     ]
    }
   ],
   "source": [
    "list3.append(\"append into empty list\")\n",
    "print(list3)"
   ]
  },
  {
   "cell_type": "code",
   "execution_count": 12,
   "metadata": {},
   "outputs": [],
   "source": [
    "list3.append(1)"
   ]
  },
  {
   "cell_type": "code",
   "execution_count": 13,
   "metadata": {},
   "outputs": [
    {
     "name": "stdout",
     "output_type": "stream",
     "text": [
      "['append into empty list', 1]\n"
     ]
    }
   ],
   "source": [
    "print(list3)"
   ]
  },
  {
   "cell_type": "code",
   "execution_count": 14,
   "metadata": {},
   "outputs": [],
   "source": [
    "list1.insert(3,\"hello\")"
   ]
  },
  {
   "cell_type": "code",
   "execution_count": 15,
   "metadata": {},
   "outputs": [
    {
     "data": {
      "text/plain": [
       "['a', 5, 'b', 'hello', True, 5, 'abc']"
      ]
     },
     "execution_count": 15,
     "metadata": {},
     "output_type": "execute_result"
    }
   ],
   "source": [
    "list1"
   ]
  },
  {
   "cell_type": "code",
   "execution_count": 17,
   "metadata": {},
   "outputs": [],
   "source": [
    "list1.extend(list2)"
   ]
  },
  {
   "cell_type": "code",
   "execution_count": 18,
   "metadata": {},
   "outputs": [
    {
     "data": {
      "text/plain": [
       "['a',\n",
       " 5,\n",
       " 'b',\n",
       " 'hello',\n",
       " True,\n",
       " 5,\n",
       " 'abc',\n",
       " 'a',\n",
       " 'b',\n",
       " 'c',\n",
       " ' ',\n",
       " 'd',\n",
       " 'e',\n",
       " 'f',\n",
       " ' ',\n",
       " 'g',\n",
       " 'h',\n",
       " 'i',\n",
       " 'a',\n",
       " 'b',\n",
       " 'c',\n",
       " ' ',\n",
       " 'd',\n",
       " 'e',\n",
       " 'f',\n",
       " ' ',\n",
       " 'g',\n",
       " 'h',\n",
       " 'i']"
      ]
     },
     "execution_count": 18,
     "metadata": {},
     "output_type": "execute_result"
    }
   ],
   "source": [
    "list1"
   ]
  },
  {
   "cell_type": "code",
   "execution_count": 20,
   "metadata": {},
   "outputs": [
    {
     "name": "stdout",
     "output_type": "stream",
     "text": [
      "[5, 'Is Fun?', True]\n"
     ]
    }
   ],
   "source": [
    "my_list = [\"Lesson\", 5, \"Is Fun?\", True]\n",
    "my_list.remove(\"Lesson\")\n",
    "print(my_list)"
   ]
  },
  {
   "cell_type": "code",
   "execution_count": 21,
   "metadata": {},
   "outputs": [
    {
     "name": "stdout",
     "output_type": "stream",
     "text": [
      "[5, 'Is Fun?']\n"
     ]
    }
   ],
   "source": [
    "my_list.pop()   #by default pops last but can be poped by giving index l.pop(index)\n",
    "print(my_list)"
   ]
  },
  {
   "cell_type": "code",
   "execution_count": 22,
   "metadata": {},
   "outputs": [
    {
     "name": "stdout",
     "output_type": "stream",
     "text": [
      "['Hello', 'my', 'new', 'friend']\n",
      "['Hello', 'my', 'friend']\n"
     ]
    }
   ],
   "source": [
    "anotherlist=[\"Hello\", \"my\", \"bestest\", \"friend\"]\n",
    "anotherlist[2]=\"new\"\n",
    "print(anotherlist)\n",
    "del anotherlist[2]\n",
    "print(anotherlist)"
   ]
  },
  {
   "cell_type": "code",
   "execution_count": 25,
   "metadata": {},
   "outputs": [],
   "source": [
    "li = [\"1\",2,\"abc\"] # del list :- deletes entire list\n",
    "del li\n"
   ]
  },
  {
   "cell_type": "code",
   "execution_count": 26,
   "metadata": {},
   "outputs": [
    {
     "ename": "NameError",
     "evalue": "name 'li' is not defined",
     "output_type": "error",
     "traceback": [
      "\u001b[0;31m---------------------------------------------------------------------------\u001b[0m",
      "\u001b[0;31mNameError\u001b[0m                                 Traceback (most recent call last)",
      "\u001b[0;32m<ipython-input-26-a6b754927a10>\u001b[0m in \u001b[0;36m<module>\u001b[0;34m\u001b[0m\n\u001b[0;32m----> 1\u001b[0;31m \u001b[0mprint\u001b[0m\u001b[0;34m(\u001b[0m\u001b[0mli\u001b[0m\u001b[0;34m)\u001b[0m\u001b[0;34m\u001b[0m\u001b[0;34m\u001b[0m\u001b[0m\n\u001b[0m",
      "\u001b[0;31mNameError\u001b[0m: name 'li' is not defined"
     ]
    }
   ],
   "source": [
    "print(li) # entire list deleted so error"
   ]
  },
  {
   "cell_type": "code",
   "execution_count": 27,
   "metadata": {},
   "outputs": [
    {
     "name": "stdout",
     "output_type": "stream",
     "text": [
      "5\n",
      "9\n",
      "1\n",
      "25\n",
      "5.0\n"
     ]
    }
   ],
   "source": [
    "num_list=[1,3,5,7,9]\n",
    "print(len(num_list))\n",
    "print(max(num_list))\n",
    "print(min(num_list))\n",
    "print(sum(num_list))\n",
    "print(sum(num_list)/len(num_list))"
   ]
  },
  {
   "cell_type": "code",
   "execution_count": 28,
   "metadata": {},
   "outputs": [
    {
     "name": "stdout",
     "output_type": "stream",
     "text": [
      "True\n",
      "False\n",
      "False\n"
     ]
    }
   ],
   "source": [
    "l=[1,2,3,4]\n",
    "print(1 in l)\n",
    "print(5 in l)\n",
    "print(1 not in l)"
   ]
  },
  {
   "cell_type": "code",
   "execution_count": 29,
   "metadata": {},
   "outputs": [
    {
     "name": "stdout",
     "output_type": "stream",
     "text": [
      "4\n"
     ]
    }
   ],
   "source": [
    "print([1,1,2,3,4,5,5,5,5].count(5))"
   ]
  },
  {
   "cell_type": "code",
   "execution_count": 30,
   "metadata": {},
   "outputs": [
    {
     "name": "stdout",
     "output_type": "stream",
     "text": [
      "Reversed List: [6, 3, 2, 4, 5, 1]\n",
      "Ascending Sorted List: [1, 2, 3, 4, 5, 6]\n",
      "Descending Sorted List: [6, 5, 4, 3, 2, 1]\n"
     ]
    }
   ],
   "source": [
    "new_list=[1,5,4,2,3,6]\n",
    "new_list.reverse()\n",
    "print(\"Reversed List:\", new_list)\n",
    "new_list.sort()\n",
    "print(\"Ascending Sorted List:\", new_list)\n",
    "new_list.sort(reverse=True)\n",
    "print(\"Descending Sorted List:\", new_list)"
   ]
  },
  {
   "cell_type": "code",
   "execution_count": 33,
   "metadata": {},
   "outputs": [
    {
     "name": "stdout",
     "output_type": "stream",
     "text": [
      "sorted list [1, 2, 3, 4, 5, 6, 7]\n",
      "reversed list [7, 6, 5, 4, 3, 2, 1]\n"
     ]
    }
   ],
   "source": [
    "l=[5,2,4,3,1,7,6]\n",
    "l.sort()\n",
    "print(\"sorted list\",l)\n",
    "l.sort(reverse=True)\n",
    "print(\"reversed list\",l)"
   ]
  },
  {
   "cell_type": "code",
   "execution_count": 35,
   "metadata": {},
   "outputs": [
    {
     "name": "stdout",
     "output_type": "stream",
     "text": [
      "(1, 2, 3)\n",
      "<class 'tuple'>\n"
     ]
    }
   ],
   "source": [
    "mytuple=(1,2,3)   # tuples cant be modified\n",
    "print(mytuple)\n",
    "print(type(mytuple))"
   ]
  },
  {
   "cell_type": "code",
   "execution_count": 36,
   "metadata": {},
   "outputs": [
    {
     "name": "stdout",
     "output_type": "stream",
     "text": [
      "(7, 6, 5, 4, 3, 2, 1)\n"
     ]
    }
   ],
   "source": [
    "tuple2 = tuple(l)\n",
    "print(tuple2)"
   ]
  },
  {
   "cell_type": "code",
   "execution_count": 44,
   "metadata": {},
   "outputs": [
    {
     "name": "stdout",
     "output_type": "stream",
     "text": [
      "{'name': 'abc', 'age': 12, 'city': 'vizag'}\n",
      "<class 'dict'>\n"
     ]
    }
   ],
   "source": [
    "mydict={'name':'abc', \"age\": 12, \"city\": \"vizag\"}\n",
    "print(mydict)         #dict has key value pair\n",
    "print(type(mydict))"
   ]
  },
  {
   "cell_type": "code",
   "execution_count": 45,
   "metadata": {},
   "outputs": [
    {
     "name": "stdout",
     "output_type": "stream",
     "text": [
      "{'name': 'abc', 'age': 15, 'city': 'vizag'}\n"
     ]
    }
   ],
   "source": [
    "mydict['age']=15\n",
    "print(mydict)"
   ]
  },
  {
   "cell_type": "code",
   "execution_count": 46,
   "metadata": {},
   "outputs": [
    {
     "name": "stdout",
     "output_type": "stream",
     "text": [
      "{'name': 'abc', 'age': 15, 'city': 'vizag', 'Gender': 'Male'}\n"
     ]
    }
   ],
   "source": [
    "mydict['Gender']='Male'\n",
    "print(mydict)"
   ]
  },
  {
   "cell_type": "code",
   "execution_count": 47,
   "metadata": {},
   "outputs": [
    {
     "name": "stdout",
     "output_type": "stream",
     "text": [
      "{'name': 'abc', 'city': 'vizag', 'Gender': 'Male'}\n"
     ]
    }
   ],
   "source": [
    "mydict.pop('age')\n",
    "print(mydict)"
   ]
  },
  {
   "cell_type": "code",
   "execution_count": 48,
   "metadata": {},
   "outputs": [
    {
     "data": {
      "text/plain": [
       "3"
      ]
     },
     "execution_count": 48,
     "metadata": {},
     "output_type": "execute_result"
    }
   ],
   "source": [
    "len(mydict)"
   ]
  },
  {
   "cell_type": "code",
   "execution_count": 50,
   "metadata": {},
   "outputs": [
    {
     "data": {
      "text/plain": [
       "True"
      ]
     },
     "execution_count": 50,
     "metadata": {},
     "output_type": "execute_result"
    }
   ],
   "source": [
    "\"name\" in mydict"
   ]
  },
  {
   "cell_type": "code",
   "execution_count": 51,
   "metadata": {},
   "outputs": [
    {
     "data": {
      "text/plain": [
       "False"
      ]
     },
     "execution_count": 51,
     "metadata": {},
     "output_type": "execute_result"
    }
   ],
   "source": [
    "\"Name\" in mydict"
   ]
  },
  {
   "cell_type": "code",
   "execution_count": 52,
   "metadata": {},
   "outputs": [
    {
     "name": "stdout",
     "output_type": "stream",
     "text": [
      "dict_keys(['name', 'city', 'Gender'])\n",
      "dict_values(['abc', 'vizag', 'Male'])\n"
     ]
    }
   ],
   "source": [
    "print(mydict.keys())\n",
    "print(mydict.values())"
   ]
  },
  {
   "cell_type": "code",
   "execution_count": 53,
   "metadata": {},
   "outputs": [
    {
     "name": "stdout",
     "output_type": "stream",
     "text": [
      "dict_items([('name', 'abc'), ('city', 'vizag'), ('Gender', 'Male')])\n"
     ]
    }
   ],
   "source": [
    "print(mydict.items())"
   ]
  },
  {
   "cell_type": "code",
   "execution_count": 55,
   "metadata": {},
   "outputs": [
    {
     "name": "stdout",
     "output_type": "stream",
     "text": [
      "{'name': ['A', 'B', 'C'], 'age': [10, 20, 30], 'city': ['abc', 'def', 'ghi']}\n"
     ]
    }
   ],
   "source": [
    "mytabledict={'name':[\"A\", \"B\", \"C\"], 'age':[10,20,30], 'city':['abc', 'def', 'ghi'\n",
    "]}\n",
    "print(mytabledict)    #can include list or tuple or set in values segment"
   ]
  },
  {
   "cell_type": "code",
   "execution_count": 56,
   "metadata": {},
   "outputs": [
    {
     "name": "stdout",
     "output_type": "stream",
     "text": [
      "{1, 2, 3, 4, 5, 6, 7, 8, 9}\n"
     ]
    }
   ],
   "source": [
    "myset={1,2,3,4,5,6,7,8,9}  # sets have no duplicates\n",
    "print(myset)"
   ]
  },
  {
   "cell_type": "code",
   "execution_count": 58,
   "metadata": {},
   "outputs": [
    {
     "name": "stdout",
     "output_type": "stream",
     "text": [
      "{1, 2, 3, 4, 5, 6, 'aa'}\n"
     ]
    }
   ],
   "source": [
    "set_list=[1,2,3,3,4,4,5,6,6,6,6,'aa','aa']\n",
    "mynewset=set(set_list)\n",
    "print(mynewset)        # duplicates are not added into set from list"
   ]
  },
  {
   "cell_type": "code",
   "execution_count": 67,
   "metadata": {},
   "outputs": [
    {
     "name": "stdout",
     "output_type": "stream",
     "text": [
      "{1, 2, 3, 4, 5, 6, 7, 8, 9, 10, 11, 12, 13, 14, 15}\n",
      "{1, 2, 3, 4, 5, 6, 7, 8, 9, 10, 11, 12, 13, 14, 15}\n"
     ]
    }
   ],
   "source": [
    "myset.add(10)\n",
    "print(myset)\n",
    "myset.update([11,12,13,14,15])\n",
    "print(myset)"
   ]
  },
  {
   "cell_type": "code",
   "execution_count": 68,
   "metadata": {},
   "outputs": [
    {
     "name": "stdout",
     "output_type": "stream",
     "text": [
      "{2, 3, 4, 5, 6, 7, 8, 9, 10, 11, 12, 13, 14, 15}\n"
     ]
    }
   ],
   "source": [
    "myset.remove(1)\n",
    "print(myset)    "
   ]
  },
  {
   "cell_type": "code",
   "execution_count": 69,
   "metadata": {},
   "outputs": [
    {
     "name": "stdout",
     "output_type": "stream",
     "text": [
      "{2, 3, 4, 5, 6, 7, 8, 9, 10, 11, 13, 14, 15}\n"
     ]
    }
   ],
   "source": [
    "myset.discard(12)\n",
    "print(myset)"
   ]
  },
  {
   "cell_type": "code",
   "execution_count": 70,
   "metadata": {},
   "outputs": [
    {
     "data": {
      "text/plain": [
       "{1, 2, 3, 4, 5, 6}"
      ]
     },
     "execution_count": 70,
     "metadata": {},
     "output_type": "execute_result"
    }
   ],
   "source": [
    "set1={1,3,5,6}\n",
    "set2={1,2,3,4}\n",
    "set1.union(set2)"
   ]
  },
  {
   "cell_type": "code",
   "execution_count": 71,
   "metadata": {},
   "outputs": [
    {
     "name": "stdout",
     "output_type": "stream",
     "text": [
      "{5, 6}\n",
      "{2, 4}\n"
     ]
    }
   ],
   "source": [
    "print(set1.difference(set2))\n",
    "print(set2.difference(set1))"
   ]
  },
  {
   "cell_type": "code",
   "execution_count": 73,
   "metadata": {},
   "outputs": [],
   "source": [
    "#set.difference_update({1,2,3,4....}) can be used to remove ultiple elements from set at a time\n",
    "#or set -={1,2,3,4....} can be used"
   ]
  },
  {
   "cell_type": "code",
   "execution_count": 74,
   "metadata": {},
   "outputs": [
    {
     "name": "stdout",
     "output_type": "stream",
     "text": [
      "False\n",
      "True\n"
     ]
    }
   ],
   "source": [
    "set1={1,3,5,6}\n",
    "set3={1,3,6}\n",
    "print(set1.issubset(set3))\n",
    "print(set3.issubset(set1))"
   ]
  },
  {
   "cell_type": "code",
   "execution_count": 77,
   "metadata": {},
   "outputs": [
    {
     "data": {
      "text/plain": [
       "{1, 2, 3, 4, 5, 6}"
      ]
     },
     "execution_count": 77,
     "metadata": {},
     "output_type": "execute_result"
    }
   ],
   "source": [
    "list11=[1,2,2,2,3,3,4,4,4,5,5,6,6,]\n",
    "set(list11)"
   ]
  },
  {
   "cell_type": "code",
   "execution_count": 78,
   "metadata": {},
   "outputs": [
    {
     "data": {
      "text/plain": [
       "6"
      ]
     },
     "execution_count": 78,
     "metadata": {},
     "output_type": "execute_result"
    }
   ],
   "source": [
    "len(set(list11))"
   ]
  },
  {
   "cell_type": "markdown",
   "metadata": {},
   "source": [
    "# control flow and looping"
   ]
  },
  {
   "cell_type": "code",
   "execution_count": 79,
   "metadata": {},
   "outputs": [
    {
     "name": "stdout",
     "output_type": "stream",
     "text": [
      "x is not greater than y\n"
     ]
    }
   ],
   "source": [
    "x=1\n",
    "y=2\n",
    "if x>y:\n",
    "    print(\"x is greater than y\")\n",
    "else:\n",
    "    print(\"x is not greater than y\")"
   ]
  },
  {
   "cell_type": "code",
   "execution_count": 80,
   "metadata": {},
   "outputs": [
    {
     "name": "stdout",
     "output_type": "stream",
     "text": [
      "How many days are there in a leap year?\n",
      "366\n",
      "Congratulations\n"
     ]
    }
   ],
   "source": [
    "days=int(input(\"How many days are there in a leap year?\\n\"))\n",
    "if days == 366:\n",
    "    print(\"Congratulations\")\n",
    "else:\n",
    "    print(\"Please re-do the test\")"
   ]
  },
  {
   "cell_type": "code",
   "execution_count": 81,
   "metadata": {},
   "outputs": [
    {
     "name": "stdout",
     "output_type": "stream",
     "text": [
      "Is Python an Interpreted Language? Yes or No?\n",
      "no\n",
      "You have failed the test\n",
      "Thanks for appearing\n"
     ]
    }
   ],
   "source": [
    "answer=input(\"Is Python an Interpreted Language? Yes or No?\\n\").lower()\n",
    "if answer==\"yes\":\n",
    "    print(\"You have cleared the Test\")   #lower() is used for lower case answer\n",
    "else:\n",
    "    print(\"You have failed the test\")\n",
    "print(\"Thanks for appearing\")"
   ]
  },
  {
   "cell_type": "code",
   "execution_count": 82,
   "metadata": {},
   "outputs": [
    {
     "name": "stdout",
     "output_type": "stream",
     "text": [
      "Which python datatype is an ordered sequence?\n",
      "list\n",
      "You entered:  list\n",
      "You have cleared the test.\n"
     ]
    }
   ],
   "source": [
    "response=input(\"Which python datatype is an ordered sequence?\\n\").lower()\n",
    "print(\"You entered: \", response)\n",
    "if response==\"list\":\n",
    "    print(\"You have cleared the test.\")\n",
    "elif response==\"tuple\":\n",
    "    print(\"You have cleared the test.\")\n",
    "else:\n",
    "    print(\"Your input is wrong. Please try again!\")"
   ]
  },
  {
   "cell_type": "code",
   "execution_count": 83,
   "metadata": {},
   "outputs": [
    {
     "name": "stdout",
     "output_type": "stream",
     "text": [
      "How many days are there in a leap year? 366\n",
      "You entered: 366\n",
      "You have cleared the first level.\n",
      "What month has an extra day in leap year?? february\n",
      "You have cleared the test.\n"
     ]
    }
   ],
   "source": [
    "response = int(input(\"How many days are there in a leap year? \"))\n",
    "print(\"You entered:\", response)\n",
    "if response == 366 :\n",
    "    print(\"You have cleared the first level.\")\n",
    "    response = input(\"What month has an extra day in leap year?? \").lower()\n",
    "    if response == \"february\" :\n",
    "        print(\"You have cleared the test.\")\n",
    "    else:\n",
    "        print(\"You have failed the test.\")\n",
    "else:\n",
    "    print(\"Your input is wrong, please try again.\")"
   ]
  },
  {
   "cell_type": "code",
   "execution_count": 84,
   "metadata": {},
   "outputs": [
    {
     "name": "stdout",
     "output_type": "stream",
     "text": [
      "Enter Length:3\n",
      "Enter Breadth:5\n",
      "it is a rectangle\n"
     ]
    }
   ],
   "source": [
    "length=int(input(\"Enter Length:\"))\n",
    "breadth=int(input(\"Enter Breadth:\"))\n",
    "if length==breadth:\n",
    "    print(\"it is a square\")\n",
    "else:\n",
    "    print(\"it is a rectangle\")"
   ]
  },
  {
   "cell_type": "code",
   "execution_count": 85,
   "metadata": {},
   "outputs": [
    {
     "name": "stdout",
     "output_type": "stream",
     "text": [
      "Enter the quantity:20\n",
      "Cost is:  1800.0\n",
      "Discount is:  200.0\n"
     ]
    }
   ],
   "source": [
    "quantity=int(input(\"Enter the quantity:\"))\n",
    "if quantity*100>1000:\n",
    "    print(\"Cost is: \", ((quantity*100)-(0.1*quantity*100)))\n",
    "    print(\"Discount is: \", (0.1*quantity*100))\n",
    "else:\n",
    "    print(\"Cost is:\", quantity*100)\n",
    "    print(\"Discount is: \", 0)"
   ]
  },
  {
   "cell_type": "code",
   "execution_count": 86,
   "metadata": {},
   "outputs": [
    {
     "name": "stdout",
     "output_type": "stream",
     "text": [
      "Enter the Salary: 1000\n",
      "No. of Years of Service: 5\n",
      "Bonus is 50.0\n"
     ]
    }
   ],
   "source": [
    "salary=int(input(\"Enter the Salary: \"))\n",
    "yos=int(input(\"No. of Years of Service: \"))\n",
    "if yos>=5:\n",
    "    print(\"Bonus is\", 0.05*salary)\n",
    "else:\n",
    "    print(\"Sorry No Bonus\")"
   ]
  },
  {
   "cell_type": "code",
   "execution_count": 87,
   "metadata": {},
   "outputs": [
    {
     "name": "stdout",
     "output_type": "stream",
     "text": [
      "10 15 20 25 30 35 40 45 50 55 60 65 70 75 80 85 90 95 "
     ]
    }
   ],
   "source": [
    "for i in range(10,100,5): # start=10,end=100,step=5\n",
    "    print(i,end=\" \")   #end =\" \" used to present in one line"
   ]
  },
  {
   "cell_type": "code",
   "execution_count": 88,
   "metadata": {},
   "outputs": [
    {
     "name": "stdout",
     "output_type": "stream",
     "text": [
      "Current Letter is not 'o': W\n",
      "Current Letter is not 'o': e\n",
      "Current Letter is not 'o': l\n",
      "Current Letter is not 'o': c\n",
      "Current Letter: o\n",
      "Current Letter is not 'o': m\n",
      "Current Letter is not 'o': e\n",
      "Current Letter is not 'o':  \n",
      "Current Letter is not 'o': t\n",
      "Current Letter: o\n",
      "Current Letter is not 'o':  \n",
      "Current Letter is not 'o': P\n",
      "Current Letter is not 'o': y\n",
      "Current Letter is not 'o': t\n",
      "Current Letter is not 'o': h\n",
      "Current Letter: o\n",
      "Current Letter is not 'o': n\n"
     ]
    }
   ],
   "source": [
    "for letter in \"Welcome to Python\":\n",
    "    if letter == \"o\":\n",
    "        print('Current Letter:',letter)\n",
    "    else:\n",
    "        print(\"Current Letter is not 'o':\", letter)"
   ]
  },
  {
   "cell_type": "code",
   "execution_count": 89,
   "metadata": {},
   "outputs": [
    {
     "name": "stdout",
     "output_type": "stream",
     "text": [
      "0\n",
      "10\n",
      "20\n",
      "30\n",
      "40\n",
      "50\n",
      "60\n",
      "70\n",
      "80\n",
      "90\n",
      "100\n"
     ]
    }
   ],
   "source": [
    "mysequence=tuple(range(0,101,10))\n",
    "for number in mysequence:\n",
    "    print(number)"
   ]
  },
  {
   "cell_type": "code",
   "execution_count": 90,
   "metadata": {},
   "outputs": [
    {
     "name": "stdout",
     "output_type": "stream",
     "text": [
      "[2002, 2009, 2016, 2023, 2037, 2044]\n"
     ]
    }
   ],
   "source": [
    "list1=range(2000,2050)\n",
    "z=[]\n",
    "for i in list1:\n",
    "    if i%7==0 and i%5==0:\n",
    "        i+=1\n",
    "    elif i%7==0:\n",
    "        z.append(i)\n",
    "        i+=1\n",
    "print(z)"
   ]
  },
  {
   "cell_type": "code",
   "execution_count": 91,
   "metadata": {},
   "outputs": [
    {
     "name": "stdout",
     "output_type": "stream",
     "text": [
      "['you?', 'hope', \"you're\", 'good']\n"
     ]
    }
   ],
   "source": [
    "w=[]\n",
    "st = \"hello how are you? hope you're doing good\"\n",
    "z=st.split()\n",
    "for i in z:\n",
    "    if len(i)%2==0:\n",
    "        w.append(i)\n",
    "print(w)"
   ]
  },
  {
   "cell_type": "code",
   "execution_count": 92,
   "metadata": {},
   "outputs": [
    {
     "name": "stdout",
     "output_type": "stream",
     "text": [
      "0\n",
      "1\n",
      "2\n",
      "3\n",
      "4\n"
     ]
    }
   ],
   "source": [
    "x=5\n",
    "i=0\n",
    "while i<x: #print as long as the iteration(i) is less than x\n",
    "    print(i)\n",
    "    i=i+1"
   ]
  },
  {
   "cell_type": "code",
   "execution_count": 93,
   "metadata": {},
   "outputs": [
    {
     "name": "stdout",
     "output_type": "stream",
     "text": [
      "Words starting with which alphabet should be extracted?\n",
      "c\n",
      "City\n",
      "Clean\n",
      "Class\n"
     ]
    }
   ],
   "source": [
    "z=\"This is Great Gurgaon Gram City Clean Class\"\n",
    "x=input(\"Words starting with which alphabet should be extracted?\\n\").upper()\n",
    "k=z.split()\n",
    "w=len(k)\n",
    "t=0                  #upper() is used as every word starts with ^ letter\n",
    "while t<w:\n",
    "    if k[t][0] == x:\n",
    "        print(k[t])\n",
    "        t+=1\n",
    "    else:\n",
    "        t+=1"
   ]
  },
  {
   "cell_type": "code",
   "execution_count": 94,
   "metadata": {},
   "outputs": [
    {
     "name": "stdout",
     "output_type": "stream",
     "text": [
      "100\n",
      "101\n",
      "102\n",
      "103\n"
     ]
    }
   ],
   "source": [
    "x = 100\n",
    "while x < 110:\n",
    "    print(x)\n",
    "    if x==103:\n",
    "        break\n",
    "    x=x+1"
   ]
  },
  {
   "cell_type": "code",
   "execution_count": 95,
   "metadata": {},
   "outputs": [
    {
     "name": "stdout",
     "output_type": "stream",
     "text": [
      "okay\n",
      "okay\n",
      "okay\n",
      "okay\n",
      "5\n",
      "okay\n",
      "okay\n",
      "okay\n",
      "okay\n",
      "10\n",
      "okay\n",
      "okay\n",
      "okay\n",
      "okay\n"
     ]
    }
   ],
   "source": [
    "for i in range(1,15):\n",
    "    if(i%5==0):\n",
    "        print(i)           #continue :- interrupts at current iteration and jumps to next iteration\n",
    "        continue         \n",
    "    else:\n",
    "        pass               #pass :- it does nothing just passes the statement to next line and executes it\n",
    "        print(\"okay\")"
   ]
  },
  {
   "cell_type": "code",
   "execution_count": null,
   "metadata": {},
   "outputs": [],
   "source": []
  }
 ],
 "metadata": {
  "kernelspec": {
   "display_name": "Python 3",
   "language": "python",
   "name": "python3"
  },
  "language_info": {
   "codemirror_mode": {
    "name": "ipython",
    "version": 3
   },
   "file_extension": ".py",
   "mimetype": "text/x-python",
   "name": "python",
   "nbconvert_exporter": "python",
   "pygments_lexer": "ipython3",
   "version": "3.8.2"
  }
 },
 "nbformat": 4,
 "nbformat_minor": 4
}
